{
 "cells": [
  {
   "cell_type": "code",
   "execution_count": 54,
   "id": "30aeb984",
   "metadata": {},
   "outputs": [
    {
     "data": {
      "text/html": [
       "\n",
       "            <style>\n",
       "                .geemap-dark {\n",
       "                    --jp-widgets-color: white;\n",
       "                    --jp-widgets-label-color: white;\n",
       "                    --jp-ui-font-color1: white;\n",
       "                    --jp-layout-color2: #454545;\n",
       "                    background-color: #383838;\n",
       "                }\n",
       "\n",
       "                .geemap-dark .jupyter-button {\n",
       "                    --jp-layout-color3: #383838;\n",
       "                }\n",
       "\n",
       "                .geemap-colab {\n",
       "                    background-color: var(--colab-primary-surface-color, white);\n",
       "                }\n",
       "\n",
       "                .geemap-colab .jupyter-button {\n",
       "                    --jp-layout-color3: var(--colab-primary-surface-color, white);\n",
       "                }\n",
       "            </style>\n",
       "            "
      ],
      "text/plain": [
       "<IPython.core.display.HTML object>"
      ]
     },
     "metadata": {},
     "output_type": "display_data"
    }
   ],
   "source": [
    "from sentinelhub import SHConfig\n",
    "from dotenv import load_dotenv\n",
    "import os\n",
    "import numpy as np\n",
    "import datetime\n",
    "import os\n",
    "import matplotlib.pyplot as plt\n",
    "from config import IMAGE_SIZE\n",
    "import cv2\n",
    "from utils import generated_lsm_mask\n",
    "from PIL import Image\n",
    "from torch.utils.data import DataLoader\n",
    "from dataset import Image_dataset\n",
    "from generator_model import Generator\n",
    "from torch import optim\n",
    "import torch\n",
    "from config import DEVICE\n",
    "import config\n",
    "from tqdm import tqdm\n",
    "\n",
    "from skimage.metrics import structural_similarity as ssim\n",
    "import cv2\n",
    "\n",
    "# Load model\n",
    "gen = Generator(in_channels=3, inter_images=4, out_channels=3)\n",
    "checkpoint = torch.load(\"model/gen_LSM_v2.pth.tar\", map_location=torch.device(DEVICE))\n",
    "gen.load_state_dict(checkpoint['state_dict'])\n",
    "\n",
    "optimizer = optim.Adam(gen.parameters())\n",
    "optimizer.load_state_dict(checkpoint['optimizer'])\n"
   ]
  },
  {
   "cell_type": "code",
   "execution_count": 55,
   "id": "b1f0a3d8",
   "metadata": {},
   "outputs": [
    {
     "data": {
      "text/html": [
       "\n",
       "            <style>\n",
       "                .geemap-dark {\n",
       "                    --jp-widgets-color: white;\n",
       "                    --jp-widgets-label-color: white;\n",
       "                    --jp-ui-font-color1: white;\n",
       "                    --jp-layout-color2: #454545;\n",
       "                    background-color: #383838;\n",
       "                }\n",
       "\n",
       "                .geemap-dark .jupyter-button {\n",
       "                    --jp-layout-color3: #383838;\n",
       "                }\n",
       "\n",
       "                .geemap-colab {\n",
       "                    background-color: var(--colab-primary-surface-color, white);\n",
       "                }\n",
       "\n",
       "                .geemap-colab .jupyter-button {\n",
       "                    --jp-layout-color3: var(--colab-primary-surface-color, white);\n",
       "                }\n",
       "            </style>\n",
       "            "
      ],
      "text/plain": [
       "<IPython.core.display.HTML object>"
      ]
     },
     "metadata": {},
     "output_type": "display_data"
    }
   ],
   "source": [
    "def generated_lsm_mask(gen, image_seq, inter_images_num=4):\n",
    "    inter_image_dict = {}\n",
    "    input_image = image_seq[:, :config.IMAGE_SIZE, :]\n",
    "    for idx in range(inter_images_num):\n",
    "        start_idx = config.IMAGE_SIZE * (idx + 1)\n",
    "        end_idx = config.IMAGE_SIZE * (idx + 2)\n",
    "        inter_image_dict[idx] = image_seq[:, start_idx:end_idx, :]\n",
    "\n",
    "    target_image = image_seq[:, config.IMAGE_SIZE * (inter_images_num + 1):, :]\n",
    "\n",
    "    for idx, inter_image in enumerate(inter_image_dict.values()):\n",
    "        inter_image_dict[idx] = config.transform_only_input(image=inter_image)[\"image\"]\n",
    "\n",
    "    target_image = config.transform_only_mask_binarize(image=target_image)[\"image\"]\n",
    "    input_image = config.transform_only_input(image=input_image)[\"image\"]\n",
    "\n",
    "    generated_output = gen(input_image.unsqueeze(0), z1=inter_image_dict[0].unsqueeze(0), \n",
    "                              z2=inter_image_dict[1].unsqueeze(0), \n",
    "                              z3=inter_image_dict[2].unsqueeze(0), \n",
    "                              z4=inter_image_dict[3].unsqueeze(0))\n",
    "    # return generated_output\n",
    "    return (generated_output[0].permute(1,2,0).detach().numpy() > 0.5) * 1., (target_image.permute(1,2,0).detach().numpy() > 0.5) * 1."
   ]
  },
  {
   "cell_type": "code",
   "execution_count": null,
   "id": "cf3774b6",
   "metadata": {},
   "outputs": [
    {
     "data": {
      "text/html": [
       "\n",
       "            <style>\n",
       "                .geemap-dark {\n",
       "                    --jp-widgets-color: white;\n",
       "                    --jp-widgets-label-color: white;\n",
       "                    --jp-ui-font-color1: white;\n",
       "                    --jp-layout-color2: #454545;\n",
       "                    background-color: #383838;\n",
       "                }\n",
       "\n",
       "                .geemap-dark .jupyter-button {\n",
       "                    --jp-layout-color3: #383838;\n",
       "                }\n",
       "\n",
       "                .geemap-colab {\n",
       "                    background-color: var(--colab-primary-surface-color, white);\n",
       "                }\n",
       "\n",
       "                .geemap-colab .jupyter-button {\n",
       "                    --jp-layout-color3: var(--colab-primary-surface-color, white);\n",
       "                }\n",
       "            </style>\n",
       "            "
      ],
      "text/plain": [
       "<IPython.core.display.HTML object>"
      ]
     },
     "metadata": {},
     "output_type": "display_data"
    }
   ],
   "source": [
    "def ssim_score(im1, im2):\n",
    "    # Load two images in grayscale\n",
    "    img1 = im1.astype('float32')\n",
    "    img2 = im2.astype('float32')\n",
    "\n",
    "    # assert img1.max() == img2.max() ## this might not work everytime\n",
    "\n",
    "    # Resize to match if necessary\n",
    "    img2 = cv2.resize(img2, (img1.shape[1], img1.shape[0]))\n",
    "\n",
    "    # Compute SSIM between two images\n",
    "    score, diff = ssim(img1, img2, channel_axis=-1, data_range=im1.max(), full=True)\n",
    "    return score\n"
   ]
  },
  {
   "cell_type": "code",
   "execution_count": null,
   "id": "a286075f",
   "metadata": {},
   "outputs": [
    {
     "data": {
      "text/html": [
       "\n",
       "            <style>\n",
       "                .geemap-dark {\n",
       "                    --jp-widgets-color: white;\n",
       "                    --jp-widgets-label-color: white;\n",
       "                    --jp-ui-font-color1: white;\n",
       "                    --jp-layout-color2: #454545;\n",
       "                    background-color: #383838;\n",
       "                }\n",
       "\n",
       "                .geemap-dark .jupyter-button {\n",
       "                    --jp-layout-color3: #383838;\n",
       "                }\n",
       "\n",
       "                .geemap-colab {\n",
       "                    background-color: var(--colab-primary-surface-color, white);\n",
       "                }\n",
       "\n",
       "                .geemap-colab .jupyter-button {\n",
       "                    --jp-layout-color3: var(--colab-primary-surface-color, white);\n",
       "                }\n",
       "            </style>\n",
       "            "
      ],
      "text/plain": [
       "<IPython.core.display.HTML object>"
      ]
     },
     "metadata": {},
     "output_type": "display_data"
    },
    {
     "name": "stderr",
     "output_type": "stream",
     "text": [
      "  0%|          | 4/870 [00:03<11:04,  1.30it/s]/Library/Frameworks/Python.framework/Versions/3.11/lib/python3.11/site-packages/skimage/metrics/_structural_similarity.py:251: RuntimeWarning: invalid value encountered in divide\n",
      "  S = (A1 * A2) / D\n",
      "  6%|▌         | 49/870 [00:36<16:09,  1.18s/it]"
     ]
    }
   ],
   "source": [
    "scores = []\n",
    "for file in tqdm(os.listdir(\"Dataset\")):\n",
    "    if not file.endswith(\".jpg\"): continue\n",
    "    image = np.array(Image.open(f\"Dataset/{file}\"))\n",
    "    generated = generated_lsm_mask(gen=gen, image_seq=image, inter_images_num=4)\n",
    "    score = ssim_score(generated[0], generated[1])\n",
    "    scores.append(score)"
   ]
  },
  {
   "cell_type": "code",
   "execution_count": null,
   "id": "81f5c660",
   "metadata": {},
   "outputs": [
    {
     "data": {
      "text/html": [
       "\n",
       "            <style>\n",
       "                .geemap-dark {\n",
       "                    --jp-widgets-color: white;\n",
       "                    --jp-widgets-label-color: white;\n",
       "                    --jp-ui-font-color1: white;\n",
       "                    --jp-layout-color2: #454545;\n",
       "                    background-color: #383838;\n",
       "                }\n",
       "\n",
       "                .geemap-dark .jupyter-button {\n",
       "                    --jp-layout-color3: #383838;\n",
       "                }\n",
       "\n",
       "                .geemap-colab {\n",
       "                    background-color: var(--colab-primary-surface-color, white);\n",
       "                }\n",
       "\n",
       "                .geemap-colab .jupyter-button {\n",
       "                    --jp-layout-color3: var(--colab-primary-surface-color, white);\n",
       "                }\n",
       "            </style>\n",
       "            "
      ],
      "text/plain": [
       "<IPython.core.display.HTML object>"
      ]
     },
     "metadata": {},
     "output_type": "display_data"
    }
   ],
   "source": []
  },
  {
   "cell_type": "code",
   "execution_count": 26,
   "id": "e71765a2",
   "metadata": {},
   "outputs": [
    {
     "data": {
      "text/html": [
       "\n",
       "            <style>\n",
       "                .geemap-dark {\n",
       "                    --jp-widgets-color: white;\n",
       "                    --jp-widgets-label-color: white;\n",
       "                    --jp-ui-font-color1: white;\n",
       "                    --jp-layout-color2: #454545;\n",
       "                    background-color: #383838;\n",
       "                }\n",
       "\n",
       "                .geemap-dark .jupyter-button {\n",
       "                    --jp-layout-color3: #383838;\n",
       "                }\n",
       "\n",
       "                .geemap-colab {\n",
       "                    background-color: var(--colab-primary-surface-color, white);\n",
       "                }\n",
       "\n",
       "                .geemap-colab .jupyter-button {\n",
       "                    --jp-layout-color3: var(--colab-primary-surface-color, white);\n",
       "                }\n",
       "            </style>\n",
       "            "
      ],
      "text/plain": [
       "<IPython.core.display.HTML object>"
      ]
     },
     "metadata": {},
     "output_type": "display_data"
    },
    {
     "name": "stdout",
     "output_type": "stream",
     "text": [
      "Black vs White SSIM: 9.998999e-05\n"
     ]
    }
   ],
   "source": [
    "import numpy as np\n",
    "\n",
    "# Create a black image and a white image\n",
    "black = np.zeros((100, 100, 3), dtype='float32')\n",
    "white = np.ones((100, 100, 3), dtype='float32')\n",
    "\n",
    "# SSIM between totally different images\n",
    "score, _ = ssim(black, white, channel_axis=-1, data_range=1.0, full=True)\n",
    "print(\"Black vs White SSIM:\", score)"
   ]
  },
  {
   "cell_type": "code",
   "execution_count": 17,
   "id": "af23f4e4",
   "metadata": {},
   "outputs": [
    {
     "data": {
      "text/html": [
       "\n",
       "            <style>\n",
       "                .geemap-dark {\n",
       "                    --jp-widgets-color: white;\n",
       "                    --jp-widgets-label-color: white;\n",
       "                    --jp-ui-font-color1: white;\n",
       "                    --jp-layout-color2: #454545;\n",
       "                    background-color: #383838;\n",
       "                }\n",
       "\n",
       "                .geemap-dark .jupyter-button {\n",
       "                    --jp-layout-color3: #383838;\n",
       "                }\n",
       "\n",
       "                .geemap-colab {\n",
       "                    background-color: var(--colab-primary-surface-color, white);\n",
       "                }\n",
       "\n",
       "                .geemap-colab .jupyter-button {\n",
       "                    --jp-layout-color3: var(--colab-primary-surface-color, white);\n",
       "                }\n",
       "            </style>\n",
       "            "
      ],
      "text/plain": [
       "<IPython.core.display.HTML object>"
      ]
     },
     "metadata": {},
     "output_type": "display_data"
    },
    {
     "data": {
      "text/plain": [
       "<matplotlib.image.AxesImage at 0x178425990>"
      ]
     },
     "execution_count": 17,
     "metadata": {},
     "output_type": "execute_result"
    },
    {
     "data": {
      "image/png": "[encoded data removed]",
      "text/plain": [
       "<Figure size 640x480 with 1 Axes>"
      ]
     },
     "metadata": {},
     "output_type": "display_data"
    }
   ],
   "source": [
    "plt.imshow(diff)"
   ]
  },
  {
   "cell_type": "code",
   "execution_count": null,
   "id": "33346851",
   "metadata": {},
   "outputs": [],
   "source": []
  }
 ],
 "metadata": {
  "kernelspec": {
   "display_name": "Python 3",
   "language": "python",
   "name": "python3"
  },
  "language_info": {
   "codemirror_mode": {
    "name": "ipython",
    "version": 3
   },
   "file_extension": ".py",
   "mimetype": "text/x-python",
   "name": "python",
   "nbconvert_exporter": "python",
   "pygments_lexer": "ipython3",
   "version": "3.11.5"
  }
 },
 "nbformat": 4,
 "nbformat_minor": 5
}

{
 "cells": [
  {
   "cell_type": "code",
   "execution_count": 69,
   "id": "0689350c",
   "metadata": {},
   "outputs": [
    {
     "data": {
      "text/html": [
       "\n",
       "            <style>\n",
       "                .geemap-dark {\n",
       "                    --jp-widgets-color: white;\n",
       "                    --jp-widgets-label-color: white;\n",
       "                    --jp-ui-font-color1: white;\n",
       "                    --jp-layout-color2: #454545;\n",
       "                    background-color: #383838;\n",
       "                }\n",
       "\n",
       "                .geemap-dark .jupyter-button {\n",
       "                    --jp-layout-color3: #383838;\n",
       "                }\n",
       "\n",
       "                .geemap-colab {\n",
       "                    background-color: var(--colab-primary-surface-color, white);\n",
       "                }\n",
       "\n",
       "                .geemap-colab .jupyter-button {\n",
       "                    --jp-layout-color3: var(--colab-primary-surface-color, white);\n",
       "                }\n",
       "            </style>\n",
       "            "
      ],
      "text/plain": [
       "<IPython.core.display.HTML object>"
      ]
     },
     "metadata": {},
     "output_type": "display_data"
    }
   ],
   "source": [
    "import ssl\n",
    "ssl._create_default_https_context = ssl._create_unverified_context\n",
    "\n",
    "from dotenv import load_dotenv\n",
    "load_dotenv()\n",
    "\n",
    "from sentinelhub import SHConfig\n",
    "import os\n",
    "config_sentinel = SHConfig(sh_client_id=os.environ.get(\"sh_client_id\"), sh_client_secret=os.environ.get(\"sh_client_secret\"))\n",
    "# print(config_sentinel.sh_client_id)\n",
    "\n",
    "from sentinelhub import SHConfig\n",
    "from sentinelhub import (\n",
    "    CRS,\n",
    "    BBox,\n",
    "    DataCollection,\n",
    "    DownloadRequest,\n",
    "    MimeType,\n",
    "    MosaickingOrder,\n",
    "    SentinelHubDownloadClient,\n",
    "    SentinelHubRequest,\n",
    "    bbox_to_dimensions,\n",
    ")\n",
    "\n",
    "from dotenv import load_dotenv\n",
    "import numpy as np\n",
    "from utils import get_map\n",
    "import datetime\n",
    "import os\n",
    "import matplotlib.pyplot as plt\n",
    "from sentinelhub import CRS, BBox, bbox_to_dimensions\n",
    "from utils import evalscript_true_color, evalscript_ndvi, evalscript_ndwi\n",
    "from utils import center_crop\n",
    "from config import IMAGE_SIZE\n",
    "from utils import to_grayscale\n",
    "import cv2\n",
    "from utils import generated_lsm_mask\n",
    "from PIL import Image\n",
    "from torch.utils.data import DataLoader\n",
    "from dataset import Image_dataset\n",
    "from generator_model import Generator\n",
    "from torch import optim\n",
    "import torch\n",
    "from config import DEVICE\n",
    "import folium\n",
    "from datetime import datetime\n",
    "\n",
    "# Load model\n",
    "gen = Generator(in_channels=3, inter_images=4, out_channels=3)\n",
    "checkpoint = torch.load(\"model/gen_LSM_v2.pth.tar\", map_location=torch.device(DEVICE))\n",
    "gen.load_state_dict(checkpoint['state_dict'])\n",
    "\n",
    "optimizer = optim.Adam(gen.parameters())\n",
    "optimizer.load_state_dict(checkpoint['optimizer'])\n",
    "\n",
    "\n",
    "from mapping_automation import find_best_date, subtract_km_from_coordinates, get_cloud_coverage, search_available_dates, get_access_token, get_slope_elevation\n",
    "from scripts import *\n",
    "from utils import *\n",
    "import os\n",
    "\n",
    "\n",
    "import gradio as gr\n",
    "\n",
    "def get_images(km, grid, grid_dim, script, box_dim=400, date_start = \"2024-04-12\", date_end = \"2024-04-12\", res=2100, file_name=None):\n",
    "    _box_dim = 1000 if km < 100 else km\n",
    "    canvas = np.zeros(((grid_dim) * _box_dim, (grid_dim) * _box_dim, 3), dtype=np.uint8)\n",
    "\n",
    "    row = 0\n",
    "    col = 0\n",
    "\n",
    "    for idx, i in enumerate(range(len(grid))):\n",
    "        y_start = _box_dim * col\n",
    "        y_end = _box_dim * (col + 1)\n",
    "        x_start = _box_dim * row\n",
    "        x_end = _box_dim * (row + 1)\n",
    "\n",
    "        print(col, row, grid[idx], \"->\", y_start, y_end, x_start, x_end) \n",
    "\n",
    "        image_rgba = cv2.resize(\n",
    "        get_suseptibility_mapping(grid[idx], script, date_start=date_start, date_end=date_end, res=res, box_dim=box_dim), (_box_dim,_box_dim)\n",
    "        )\n",
    "        if image_rgba.shape[-1] == 4:\n",
    "            image_rgb = image_rgba[..., :3]\n",
    "        else: image_rgb = image_rgba\n",
    "        canvas[y_start:y_end, x_start:x_end] = image_rgb\n",
    "\n",
    "        if file_name: \n",
    "            plt.imsave(f\"{file_name}.png\", canvas)\n",
    "            print(f\"Saved: {file_name}.png\")\n",
    "\n",
    "        row += 1  # Move to the next column\n",
    "        if (idx + 1) % math.sqrt(len(grid)) == 0:\n",
    "            print(\"----\") \n",
    "            col += 1  # Move to the next row\n",
    "            row = 0  # Reset column position\n",
    "    return canvas\n",
    "\n",
    "\n",
    "def generate_image(lat, lon, box_dim, grid, date):\n",
    "    lat, lon, box_dim, grid, date = float(lat), float(lon), int(box_dim), int(grid), str(datetime.fromtimestamp(date).strftime(\"%Y-%m-%d\"))\n",
    "    box_dim = int(box_dim)\n",
    "    lat = float(lat)\n",
    "    lon = float(lon)\n",
    "    box_dim = int(box_dim)\n",
    "    grid = int(grid)\n",
    "    g = generate_grid(lat, lon, distance=box_dim*1000, grid_side=grid)\n",
    "    m = folium.Map(\n",
    "        location=(lat, lon),\n",
    "        zoom_start=15,\n",
    "        tiles='https://server.arcgisonline.com/ArcGIS/rest/services/World_Imagery/MapServer/tile/{z}/{y}/{x}',\n",
    "        attr='Esri'\n",
    "    )   \n",
    "    for i in range(len(g)):\n",
    "        folium.Rectangle([(g[i][:2]), (g[i][2:])], color='red', fill='pink',fill_opcity=0.5).add_to(m)\n",
    "    res = 1000\n",
    "    row = 0\n",
    "    col = 0\n",
    "    get_new_dates_for_each = True\n",
    "\n",
    "    _box_dim = 1000 if box_dim < 100 else box_dim\n",
    "\n",
    "    canvas_True_Color_After = np.zeros(((grid) * _box_dim, (grid) * _box_dim, 3), dtype=np.uint8)\n",
    "    canvas_NDVI_Before = np.zeros(((grid) * _box_dim, (grid) * _box_dim, 3), dtype=np.uint8)\n",
    "    canvas_Elevation = np.zeros(((grid) * _box_dim, (grid) * _box_dim, 3), dtype=np.uint8)\n",
    "    canvas_Slope = np.zeros(((grid) * _box_dim, (grid) * _box_dim, 3), dtype=np.uint8)\n",
    "    canvas_NDWI_Before = np.zeros(((grid) * _box_dim, (grid) * _box_dim, 3), dtype=np.uint8)\n",
    "    canvas_generated_output = np.zeros(((grid) * _box_dim, (grid) * _box_dim, 3), dtype=np.uint8)/255\n",
    "\n",
    "    for idx, i in enumerate(range(len(g))):\n",
    "        if get_new_dates_for_each or idx==0:\n",
    "            lat, lon = g[idx][0], g[idx][1]\n",
    "            print(\"Getting dates for new lat lon\")\n",
    "            available_dates = search_available_dates(target_date=date,\n",
    "                                                    lat = lat,\n",
    "                                                    lon = lon)\n",
    "            available_dates_cloud_coverage = get_cloud_coverage(lat=lat, lon=lon, date_list=available_dates)\n",
    "            min_before_date, min_before_cc, min_after_date, min_after_cc = find_best_date({k: v for k, v in available_dates_cloud_coverage.items() if v is not None}, target_date=date)\n",
    "            print(min_before_date,\":\" , min_before_cc, min_after_date,\":\" ,min_after_cc)\n",
    "        \n",
    "        y_start = _box_dim * col\n",
    "        y_end = _box_dim * (col + 1)\n",
    "        x_start = _box_dim * row\n",
    "        x_end = _box_dim * (row + 1)\n",
    "\n",
    "        print(\"NDVI_Before\")\n",
    "        NDVI_Before = get_images(km=box_dim, grid=[g[i]], grid_dim=1, script=evalscript_True_Color, \n",
    "            date_start=min_before_date, date_end=min_before_date, res=res, \n",
    "            box_dim=box_dim)\n",
    "\n",
    "        print(\"True_Color_After\")\n",
    "        True_Color_After = get_images(km=box_dim, grid=[g[i]], grid_dim=1, script=evalscript_True_Color, \n",
    "                date_start=min_before_date, date_end=min_before_date, res=res,                            ## idk fix this: True_Color_After should have been True_Color_Before\n",
    "                box_dim=box_dim)\n",
    "        canvas_True_Color_After[y_start:y_end, x_start:x_end] = True_Color_After\n",
    "\n",
    "        print(\"NDWI_Before\")\n",
    "        NDWI_Before = get_images(km=box_dim, grid=[g[i]], grid_dim=1, script=evalscript_NDWI, \n",
    "                date_start=min_before_date, date_end=min_before_date, res=res, \n",
    "                box_dim=box_dim)\n",
    "        canvas_NDWI_Before[y_start:y_end, x_start:x_end] = NDWI_Before\n",
    "\n",
    "        slope_arr, elevation_arr = get_slope_elevation([g[idx]])\n",
    "        slope_arr = cv2.resize(slope_arr, (1000,1000))\n",
    "        elevation_arr = cv2.resize(elevation_arr, (1000,1000))\n",
    "\n",
    "        print(\"Generated Output\")\n",
    "        generated_output = gen(torch.tensor(cv2.resize(True_Color_After, (512, 512))).permute(2, 0, 1).unsqueeze(0).to(torch.float32),\n",
    "        z1 = torch.tensor(cv2.resize(NDVI_Before, (512, 512))).permute(2, 0, 1).unsqueeze(0).to(torch.float32),\n",
    "        z2 = torch.tensor(cv2.resize(slope_arr, (512, 512))).unsqueeze(-1).repeat(1, 1, 3).permute(2, 0, 1).unsqueeze(0).to(torch.float32),\n",
    "        z3 = torch.tensor(cv2.resize(elevation_arr, (512, 512))).unsqueeze(-1).repeat(1, 1, 3).permute(2, 0, 1).unsqueeze(0).to(torch.float32),\n",
    "        z4 = torch.tensor(cv2.resize(NDWI_Before, (512, 512))).permute(2, 0, 1).unsqueeze(0).to(torch.float32)\n",
    "        )\n",
    "        canvas_generated_output[y_start:y_end, x_start:x_end] = cv2.resize(generated_output[0].permute(1, 2, 0).detach().cpu().numpy(), (1000,1000))*0.5+0.5\n",
    "\n",
    "        row += 1  # Move to the next column\n",
    "        if (idx + 1) % math.sqrt(len(g)) == 0:\n",
    "            print(\"----\") \n",
    "            col += 1  # Move to the next row\n",
    "            row = 0  # Reset column position\n",
    "\n",
    "    return canvas_generated_output\n"
   ]
  },
  {
   "cell_type": "code",
   "execution_count": 71,
   "id": "e3e8efae",
   "metadata": {},
   "outputs": [
    {
     "data": {
      "text/html": [
       "\n",
       "            <style>\n",
       "                .geemap-dark {\n",
       "                    --jp-widgets-color: white;\n",
       "                    --jp-widgets-label-color: white;\n",
       "                    --jp-ui-font-color1: white;\n",
       "                    --jp-layout-color2: #454545;\n",
       "                    background-color: #383838;\n",
       "                }\n",
       "\n",
       "                .geemap-dark .jupyter-button {\n",
       "                    --jp-layout-color3: #383838;\n",
       "                }\n",
       "\n",
       "                .geemap-colab {\n",
       "                    background-color: var(--colab-primary-surface-color, white);\n",
       "                }\n",
       "\n",
       "                .geemap-colab .jupyter-button {\n",
       "                    --jp-layout-color3: var(--colab-primary-surface-color, white);\n",
       "                }\n",
       "            </style>\n",
       "            "
      ],
      "text/plain": [
       "<IPython.core.display.HTML object>"
      ]
     },
     "metadata": {},
     "output_type": "display_data"
    },
    {
     "name": "stdout",
     "output_type": "stream",
     "text": [
      "Running on local URL:  http://127.0.0.1:7893\n",
      "\n",
      "To create a public link, set `share=True` in `launch()`.\n"
     ]
    },
    {
     "data": {
      "text/html": [
       "<div><iframe src=\"http://127.0.0.1:7893/\" width=\"100%\" height=\"500\" allow=\"autoplay; camera; microphone; clipboard-read; clipboard-write;\" frameborder=\"0\" allowfullscreen></iframe></div>"
      ],
      "text/plain": [
       "<IPython.core.display.HTML object>"
      ]
     },
     "metadata": {},
     "output_type": "display_data"
    },
    {
     "data": {
      "text/plain": []
     },
     "execution_count": 71,
     "metadata": {},
     "output_type": "execute_result"
    },
    {
     "name": "stdout",
     "output_type": "stream",
     "text": [
      "Getting dates for new lat lon\n",
      "2025-01-26 : 0.89 2025-02-05 : 9.87\n",
      "NDVI_Before\n",
      "0 0 [35.5, 75.7, 35.50899321605919, 75.7110466093035] -> 0 1000 0 1000\n",
      "----\n",
      "True_Color_After\n",
      "0 0 [35.5, 75.7, 35.50899321605919, 75.7110466093035] -> 0 1000 0 1000\n",
      "----\n",
      "NDWI_Before\n",
      "0 0 [35.5, 75.7, 35.50899321605919, 75.7110466093035] -> 0 1000 0 1000\n",
      "----\n",
      "Generated Output\n",
      "----\n"
     ]
    }
   ],
   "source": [
    "import gradio as gr\n",
    "import folium\n",
    "from utils import generate_grid\n",
    "import selenium\n",
    "from io import BytesIO\n",
    "from PIL import Image\n",
    "import matplotlib.pylab as plt\n",
    "import numpy as np\n",
    "\n",
    "def view_map(lat, lon, box_dim, grid):\n",
    "    lat, lon, box_dim, grid = float(lat), float(lon), int(box_dim), int(grid)\n",
    "    g = generate_grid(lat, lon, distance=box_dim*1000, grid_side=grid)\n",
    "    m = folium.Map(\n",
    "        location=(lat, lon),\n",
    "        zoom_start=12,\n",
    "        tiles='https://server.arcgisonline.com/ArcGIS/rest/services/World_Imagery/MapServer/tile/{z}/{y}/{x}',\n",
    "        attr='Esri'\n",
    "    )   \n",
    "    for i in range(len(g)):\n",
    "        folium.Rectangle([(g[i][:2]), (g[i][2:])], color='red', fill='pink',fill_opcity=0.5).add_to(m)\n",
    "\n",
    "    png = m._to_png(3)\n",
    "    return Image.open(BytesIO(png))\n",
    "\n",
    "\n",
    "with gr.Blocks() as demo:\n",
    "    with gr.Tab(\"Confirm Region\"):\n",
    "        Latitude = gr.Textbox(lines=1, label=\"Latitude\")\n",
    "        Longitude = gr.Textbox(lines=1, label=\"Longitude\")\n",
    "        Grid = gr.Dropdown([1,2,3,4,5], label=\"Grid\")\n",
    "        Bbox_Dimension = gr.Dropdown([1,2,3,4,5], label=\"Bbox Dimension (in km)\")\n",
    "    \n",
    "        View_map_button = gr.Button(\"View Map\")\n",
    "        sat_image = gr.Image()\n",
    "    \n",
    "    with gr.Tab(\"Generate LSM\"):\n",
    "        Date = gr.DateTime(include_time=False, label=\"Select a date\")\n",
    "        Generate_LSM_button = gr.Button(\"Generate Landslide Susceptibility Mapping\")\n",
    "        lsm_image = gr.Image()\n",
    "\n",
    "    View_map_button.click(view_map, inputs=[Latitude, Longitude, Bbox_Dimension, Grid], outputs=sat_image)\n",
    "    Generate_LSM_button.click(generate_image, inputs=[Latitude, Longitude, Bbox_Dimension, Grid, Date], outputs=lsm_image)\n",
    "demo.launch()\n"
   ]
  },
  {
   "cell_type": "code",
   "execution_count": null,
   "id": "cbbe552f",
   "metadata": {},
   "outputs": [
    {
     "data": {
      "text/html": [
       "\n",
       "            <style>\n",
       "                .geemap-dark {\n",
       "                    --jp-widgets-color: white;\n",
       "                    --jp-widgets-label-color: white;\n",
       "                    --jp-ui-font-color1: white;\n",
       "                    --jp-layout-color2: #454545;\n",
       "                    background-color: #383838;\n",
       "                }\n",
       "\n",
       "                .geemap-dark .jupyter-button {\n",
       "                    --jp-layout-color3: #383838;\n",
       "                }\n",
       "\n",
       "                .geemap-colab {\n",
       "                    background-color: var(--colab-primary-surface-color, white);\n",
       "                }\n",
       "\n",
       "                .geemap-colab .jupyter-button {\n",
       "                    --jp-layout-color3: var(--colab-primary-surface-color, white);\n",
       "                }\n",
       "            </style>\n",
       "            "
      ],
      "text/plain": [
       "<IPython.core.display.HTML object>"
      ]
     },
     "metadata": {},
     "output_type": "display_data"
    },
    {
     "data": {
      "text/plain": [
       "'2025-04-01'"
      ]
     },
     "execution_count": 68,
     "metadata": {},
     "output_type": "execute_result"
    }
   ],
   "source": []
  },
  {
   "cell_type": "code",
   "execution_count": null,
   "id": "51e82001",
   "metadata": {},
   "outputs": [],
   "source": []
  },
  {
   "cell_type": "code",
   "execution_count": 70,
   "id": "8fefa649",
   "metadata": {},
   "outputs": [
    {
     "data": {
      "text/html": [
       "\n",
       "            <style>\n",
       "                .geemap-dark {\n",
       "                    --jp-widgets-color: white;\n",
       "                    --jp-widgets-label-color: white;\n",
       "                    --jp-ui-font-color1: white;\n",
       "                    --jp-layout-color2: #454545;\n",
       "                    background-color: #383838;\n",
       "                }\n",
       "\n",
       "                .geemap-dark .jupyter-button {\n",
       "                    --jp-layout-color3: #383838;\n",
       "                }\n",
       "\n",
       "                .geemap-colab {\n",
       "                    background-color: var(--colab-primary-surface-color, white);\n",
       "                }\n",
       "\n",
       "                .geemap-colab .jupyter-button {\n",
       "                    --jp-layout-color3: var(--colab-primary-surface-color, white);\n",
       "                }\n",
       "            </style>\n",
       "            "
      ],
      "text/plain": [
       "<IPython.core.display.HTML object>"
      ]
     },
     "metadata": {},
     "output_type": "display_data"
    },
    {
     "data": {
      "text/plain": [
       "datetime.datetime(2025, 4, 1, 0, 0)"
      ]
     },
     "execution_count": 70,
     "metadata": {},
     "output_type": "execute_result"
    }
   ],
   "source": [
    "datetime.fromtimestamp(1743445800.0)"
   ]
  }
 ],
 "metadata": {
  "kernelspec": {
   "display_name": "Python 3",
   "language": "python",
   "name": "python3"
  },
  "language_info": {
   "codemirror_mode": {
    "name": "ipython",
    "version": 3
   },
   "file_extension": ".py",
   "mimetype": "text/x-python",
   "name": "python",
   "nbconvert_exporter": "python",
   "pygments_lexer": "ipython3",
   "version": "3.11.5"
  }
 },
 "nbformat": 4,
 "nbformat_minor": 5
}

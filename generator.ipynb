{
 "cells": [
  {
   "cell_type": "code",
   "execution_count": 1,
   "metadata": {},
   "outputs": [],
   "source": [
    "import torch\n",
    "from torch import nn\n",
    "\n",
    "class Block(nn.Module):\n",
    "    def __init__(self, in_channels, out_channels, down=True, act=\"relu\", use_dropout=False):\n",
    "        super().__init__()\n",
    "\n",
    "        self.conv = nn.Sequential(\n",
    "            nn.Conv2d(in_channels, out_channels, 4, 2, 1, bias=False, padding_mode=\"reflect\") if down else nn.ConvTranspose2d(in_channels, out_channels, 4, 2, 1, bias=False),\n",
    "            nn.BatchNorm2d(out_channels),\n",
    "            nn.ReLU() if act == \"relu\" else nn.LeakyReLU(0.2),\n",
    "        )\n",
    "        self.use_dropout = use_dropout\n",
    "        self.dropout = nn.Dropout(0.5)\n",
    "    \n",
    "    def forward(self, x):\n",
    "        X = self.conv(x)\n",
    "        return self.dropout(X) if self.use_dropout else X"
   ]
  },
  {
   "cell_type": "code",
   "execution_count": 2,
   "metadata": {},
   "outputs": [
    {
     "data": {
      "text/plain": [
       "Block(\n",
       "  (conv): Sequential(\n",
       "    (0): ConvTranspose2d(10, 100, kernel_size=(4, 4), stride=(2, 2), padding=(1, 1), bias=False)\n",
       "    (1): BatchNorm2d(100, eps=1e-05, momentum=0.1, affine=True, track_running_stats=True)\n",
       "    (2): ReLU()\n",
       "  )\n",
       "  (dropout): Dropout(p=0.5, inplace=False)\n",
       ")"
      ]
     },
     "execution_count": 2,
     "metadata": {},
     "output_type": "execute_result"
    }
   ],
   "source": [
    "Block(10, 100, down=False, use_dropout=False)"
   ]
  },
  {
   "cell_type": "code",
   "execution_count": 3,
   "metadata": {},
   "outputs": [],
   "source": [
    "class Generator(nn.Module):\n",
    "    def __init__(self, in_channels=3, features=64):\n",
    "        super().__init__()\n",
    "\n",
    "        self.initial = nn.Sequential(\n",
    "            nn.Conv2d(in_channels*2, features, 4, 2, 1, padding_mode=\"reflect\"),\n",
    "            nn.LeakyReLU(0.2)\n",
    "        ) # 128\n",
    "\n",
    "        self.down1 = Block(features, features*2, down=True, act=\"relu\", use_dropout=False) # 64\n",
    "        self.down2 = Block(features*2, features*4, down=True, act=\"relu\", use_dropout=False) # 32\n",
    "        self.down3 = Block(features*4, features*8, down=True, act=\"relu\", use_dropout=False) # 16\n",
    "        self.down4 = Block(features*8, features*8, down=True, act=\"relu\", use_dropout=False) # 8\n",
    "        self.down5 = Block(features*8, features*8, down=True, act=\"relu\", use_dropout=False) # 4\n",
    "        self.down6 = Block(features*8, features*8, down=True, act=\"relu\", use_dropout=False) # 2\n",
    "\n",
    "        self.bottleneck = nn.Sequential(\n",
    "            nn.Conv2d(features*8, features*8, 4, 2, 1, padding_mode=\"reflect\"),\n",
    "            nn.ReLU() # 1\n",
    "        )\n",
    "\n",
    "        self.up1 = Block(features*8, features*8, down=False, act=\"relu\", use_dropout=False) # 2\n",
    "        self.up2 = Block(features*8*2, features*8, down=False, act=\"relu\", use_dropout=False) # 4\n",
    "        self.up3 = Block(features*8*2, features*8, down=False, act=\"relu\", use_dropout=False) # 8\n",
    "        self.up4 = Block(features*8*2, features*8, down=False, act=\"relu\", use_dropout=False) # 16\n",
    "        self.up5 = Block(features*8*2, features*4, down=False, act=\"relu\", use_dropout=False) # 32\n",
    "        self.up6 = Block(features*4*2, features*2, down=False, act=\"relu\", use_dropout=False) # 64\n",
    "        self.up7 = Block(features*2*2, features, down=False, act=\"relu\", use_dropout=False) # 128\n",
    "\n",
    "        self.finalup = nn.Sequential(\n",
    "            nn.ConvTranspose2d(features*2, in_channels, 4, 2, 1),\n",
    "            nn.Tanh()\n",
    "        )\n",
    "    \n",
    "    def forward(self, x, z):\n",
    "        d1 = self.initial(torch.cat([x,z], 1))\n",
    "        d2 = self.down1(d1)\n",
    "        d3 = self.down2(d2)\n",
    "        d4 = self.down3(d3)\n",
    "        d5 = self.down4(d4)\n",
    "        d6 = self.down5(d5)\n",
    "        d7 = self.down6(d6)\n",
    "        bottleneck = self.bottleneck(d7)\n",
    "\n",
    "        up1 = self.up1(bottleneck)\n",
    "        up2 = self.up2(torch.cat([up1, d7], 1))\n",
    "        up3 = self.up3(torch.cat([up2, d6], 1))\n",
    "        up4 = self.up4(torch.cat([up3, d5], 1))\n",
    "        up5 = self.up5(torch.cat([up4, d4], 1))\n",
    "        up6 = self.up6(torch.cat([up5, d3], 1))\n",
    "        up7 = self.up7(torch.cat([up6, d2], 1))\n",
    "        return self.finalup(torch.cat([up7, d1], 1))\n"
   ]
  },
  {
   "cell_type": "code",
   "execution_count": 4,
   "metadata": {},
   "outputs": [
    {
     "data": {
      "text/plain": [
       "torch.Size([1, 3, 256, 256])"
      ]
     },
     "execution_count": 4,
     "metadata": {},
     "output_type": "execute_result"
    }
   ],
   "source": [
    "g = Generator(in_channels=3, features=64)\n",
    "\n",
    "s1 = torch.rand([1,3,256,256])\n",
    "s2 = torch.rand([1,3,256,256])\n",
    "\n",
    "g(s1, s2).shape"
   ]
  },
  {
   "cell_type": "code",
   "execution_count": 5,
   "metadata": {},
   "outputs": [
    {
     "data": {
      "text/plain": [
       "tensor([[[[0.2068, 0.4127, 0.0040,  ..., 0.2035, 0.6573, 0.6828],\n",
       "          [0.5773, 0.7272, 0.3109,  ..., 0.8190, 0.2375, 0.8926],\n",
       "          [0.3870, 0.5245, 0.3777,  ..., 0.9491, 0.2352, 0.6513],\n",
       "          ...,\n",
       "          [0.5627, 0.3154, 0.1969,  ..., 0.4791, 0.5171, 0.2437],\n",
       "          [0.1703, 0.4178, 0.0495,  ..., 0.0049, 0.3487, 0.3534],\n",
       "          [0.2256, 0.7917, 0.2395,  ..., 0.4870, 0.2894, 0.8672]],\n",
       "\n",
       "         [[0.9384, 0.1058, 0.7233,  ..., 0.9545, 0.8682, 0.5022],\n",
       "          [0.6541, 0.9720, 0.7170,  ..., 0.4267, 0.7089, 0.1788],\n",
       "          [0.9076, 0.2569, 0.5120,  ..., 0.2696, 0.3614, 0.8534],\n",
       "          ...,\n",
       "          [0.2922, 0.8430, 0.5647,  ..., 0.4054, 0.8479, 0.5501],\n",
       "          [0.5948, 0.0053, 0.1732,  ..., 0.8298, 0.3789, 0.4631],\n",
       "          [0.9477, 0.6178, 0.7103,  ..., 0.3031, 0.5350, 0.6743]],\n",
       "\n",
       "         [[0.9722, 0.9651, 0.1220,  ..., 0.8206, 0.1902, 0.7015],\n",
       "          [0.6982, 0.0756, 0.1067,  ..., 0.3490, 0.9218, 0.0101],\n",
       "          [0.3268, 0.3667, 0.2249,  ..., 0.7820, 0.5668, 0.1375],\n",
       "          ...,\n",
       "          [0.0501, 0.0511, 0.6281,  ..., 0.2482, 0.0358, 0.8499],\n",
       "          [0.7915, 0.9629, 0.3053,  ..., 0.6715, 0.0474, 0.2316],\n",
       "          [0.8689, 0.3854, 0.1412,  ..., 0.9221, 0.8951, 0.7914]]]])"
      ]
     },
     "execution_count": 5,
     "metadata": {},
     "output_type": "execute_result"
    }
   ],
   "source": [
    "s1"
   ]
  },
  {
   "cell_type": "code",
   "execution_count": null,
   "metadata": {},
   "outputs": [],
   "source": []
  }
 ],
 "metadata": {
  "kernelspec": {
   "display_name": "Python 3",
   "language": "python",
   "name": "python3"
  },
  "language_info": {
   "codemirror_mode": {
    "name": "ipython",
    "version": 3
   },
   "file_extension": ".py",
   "mimetype": "text/x-python",
   "name": "python",
   "nbconvert_exporter": "python",
   "pygments_lexer": "ipython3",
   "version": "3.11.5"
  }
 },
 "nbformat": 4,
 "nbformat_minor": 2
}

{
 "cells": [
  {
   "cell_type": "code",
   "execution_count": 2,
   "metadata": {},
   "outputs": [],
   "source": [
    "import torch\n",
    "from torch import nn\n",
    "\n",
    "class Block(nn.Module):\n",
    "    def __init__(self, in_channels, out_channels, down=True, act=\"relu\", use_dropout=False):\n",
    "        super().__init__()\n",
    "\n",
    "        self.conv = nn.Sequential(\n",
    "            nn.Conv2d(in_channels, out_channels, 4, 2, 1, bias=False, padding_mode=\"reflect\") if down else nn.ConvTranspose2d(in_channels, out_channels, 4, 2, 1, bias=False),\n",
    "            nn.BatchNorm2d(out_channels),\n",
    "            nn.ReLU() if act == \"relu\" else nn.LeakyReLU(0.2),\n",
    "        )\n",
    "        self.use_dropout = use_dropout\n",
    "        self.dropout = nn.Dropout(0.5)\n",
    "    \n",
    "    def forward(self, x):\n",
    "        X = self.conv(x)\n",
    "        return self.dropout(X) if self.use_dropout else X"
   ]
  },
  {
   "cell_type": "code",
   "execution_count": 14,
   "metadata": {},
   "outputs": [
    {
     "data": {
      "text/plain": [
       "Block(\n",
       "  (conv): Sequential(\n",
       "    (0): ConvTranspose2d(10, 100, kernel_size=(4, 4), stride=(2, 2), padding=(1, 1), bias=False)\n",
       "    (1): BatchNorm2d(100, eps=1e-05, momentum=0.1, affine=True, track_running_stats=True)\n",
       "    (2): ReLU()\n",
       "  )\n",
       "  (dropout): Dropout(p=0.5, inplace=False)\n",
       ")"
      ]
     },
     "execution_count": 14,
     "metadata": {},
     "output_type": "execute_result"
    }
   ],
   "source": [
    "Block(10, 100, down=False, use_dropout=False)"
   ]
  },
  {
   "cell_type": "code",
   "execution_count": 3,
   "metadata": {},
   "outputs": [],
   "source": [
    "class Generator(nn.Module):\n",
    "    def __init__(self, in_channels=3, features=64):\n",
    "        super().__init__()\n",
    "\n",
    "        self.initial = nn.Sequential(\n",
    "            nn.Conv2d(in_channels*2, features, 4, 2, 1, padding_mode=\"reflect\"),\n",
    "            nn.LeakyReLU(0.2)\n",
    "        ) # 128\n",
    "\n",
    "        self.down1 = Block(features, features*2, down=True, act=\"relu\", use_dropout=False) # 64\n",
    "        self.down2 = Block(features*2, features*4, down=True, act=\"relu\", use_dropout=False) # 32\n",
    "        self.down3 = Block(features*4, features*8, down=True, act=\"relu\", use_dropout=False) # 16\n",
    "        self.down4 = Block(features*8, features*8, down=True, act=\"relu\", use_dropout=False) # 8\n",
    "        self.down5 = Block(features*8, features*8, down=True, act=\"relu\", use_dropout=False) # 4\n",
    "        self.down6 = Block(features*8, features*8, down=True, act=\"relu\", use_dropout=False) # 2\n",
    "\n",
    "        self.bottleneck = nn.Sequential(\n",
    "            nn.Conv2d(features*8, features*8, 4, 2, 1, padding_mode=\"reflect\"),\n",
    "            nn.ReLU() # 1\n",
    "        )\n",
    "\n",
    "        self.up1 = Block(features*8, features*8, down=False, act=\"relu\", use_dropout=False) # 2\n",
    "        self.up2 = Block(features*8*2, features*8, down=False, act=\"relu\", use_dropout=False) # 4\n",
    "        self.up3 = Block(features*8*2, features*8, down=False, act=\"relu\", use_dropout=False) # 8\n",
    "        self.up4 = Block(features*8*2, features*8, down=False, act=\"relu\", use_dropout=False) # 16\n",
    "        self.up5 = Block(features*8*2, features*4, down=False, act=\"relu\", use_dropout=False) # 32\n",
    "        self.up6 = Block(features*4*2, features*2, down=False, act=\"relu\", use_dropout=False) # 64\n",
    "        self.up7 = Block(features*2*2, features, down=False, act=\"relu\", use_dropout=False) # 128\n",
    "\n",
    "        self.finalup = nn.Sequential(\n",
    "            nn.ConvTranspose2d(features*2, in_channels, 4, 2, 1),\n",
    "            nn.Tanh()\n",
    "        )\n",
    "    \n",
    "    def forward(self, x, z):\n",
    "        d1 = self.initial(torch.cat([x,z], 1))\n",
    "        d2 = self.down1(d1)\n",
    "        d3 = self.down2(d2)\n",
    "        d4 = self.down3(d3)\n",
    "        d5 = self.down4(d4)\n",
    "        d6 = self.down5(d5)\n",
    "        d7 = self.down6(d6)\n",
    "        bottleneck = self.bottleneck(d7)\n",
    "\n",
    "        up1 = self.up1(bottleneck)\n",
    "        up2 = self.up2(torch.cat([up1, d7], 1))\n",
    "        up3 = self.up3(torch.cat([up2, d6], 1))\n",
    "        up4 = self.up4(torch.cat([up3, d5], 1))\n",
    "        up5 = self.up5(torch.cat([up4, d4], 1))\n",
    "        up6 = self.up6(torch.cat([up5, d3], 1))\n",
    "        up7 = self.up7(torch.cat([up6, d2], 1))\n",
    "        return self.finalup(torch.cat([up7, d1], 1))\n"
   ]
  },
  {
   "cell_type": "code",
   "execution_count": 6,
   "metadata": {},
   "outputs": [
    {
     "data": {
      "text/plain": [
       "torch.Size([1, 3, 256, 256])"
      ]
     },
     "execution_count": 6,
     "metadata": {},
     "output_type": "execute_result"
    }
   ],
   "source": [
    "g = Generator(in_channels=3, features=64)\n",
    "\n",
    "s1 = torch.rand([1,3,256,256])\n",
    "s2 = torch.rand([1,3,256,256])\n",
    "\n",
    "g(s1, s2).shape"
   ]
  }
 ],
 "metadata": {
  "kernelspec": {
   "display_name": "Python 3",
   "language": "python",
   "name": "python3"
  },
  "language_info": {
   "codemirror_mode": {
    "name": "ipython",
    "version": 3
   },
   "file_extension": ".py",
   "mimetype": "text/x-python",
   "name": "python",
   "nbconvert_exporter": "python",
   "pygments_lexer": "ipython3",
   "version": "3.11.5"
  }
 },
 "nbformat": 4,
 "nbformat_minor": 2
}
